{
 "cells": [
  {
   "cell_type": "code",
   "execution_count": 5,
   "metadata": {},
   "outputs": [
    {
     "ename": "FileNotFoundError",
     "evalue": "[WinError 3] The system cannot find the path specified: '/3101Prefinals'",
     "output_type": "error",
     "traceback": [
      "\u001b[1;31m---------------------------------------------------------------------------\u001b[0m",
      "\u001b[1;31mFileNotFoundError\u001b[0m                         Traceback (most recent call last)",
      "Cell \u001b[1;32mIn[5], line 8\u001b[0m\n\u001b[0;32m      5\u001b[0m data_dir \u001b[38;5;241m=\u001b[39m \u001b[38;5;124m\"\u001b[39m\u001b[38;5;124m/3101Prefinals\u001b[39m\u001b[38;5;124m\"\u001b[39m\n\u001b[0;32m      7\u001b[0m \u001b[38;5;66;03m# List of ARFF file names\u001b[39;00m\n\u001b[1;32m----> 8\u001b[0m arff_files \u001b[38;5;241m=\u001b[39m [f \u001b[38;5;28;01mfor\u001b[39;00m f \u001b[38;5;129;01min\u001b[39;00m \u001b[43mos\u001b[49m\u001b[38;5;241;43m.\u001b[39;49m\u001b[43mlistdir\u001b[49m\u001b[43m(\u001b[49m\u001b[43mdata_dir\u001b[49m\u001b[43m)\u001b[49m \u001b[38;5;28;01mif\u001b[39;00m f\u001b[38;5;241m.\u001b[39mendswith(\u001b[38;5;124m\"\u001b[39m\u001b[38;5;124m.arff\u001b[39m\u001b[38;5;124m\"\u001b[39m)]\n\u001b[0;32m     10\u001b[0m \u001b[38;5;66;03m# Initialize an empty list to store DataFrames\u001b[39;00m\n\u001b[0;32m     11\u001b[0m file_dataframes \u001b[38;5;241m=\u001b[39m []\n",
      "\u001b[1;31mFileNotFoundError\u001b[0m: [WinError 3] The system cannot find the path specified: '/3101Prefinals'"
     ]
    }
   ],
   "source": [
    "import pandas as pd\n",
    "import os\n",
    "\n",
    "# Define directory path containing ARFF files (adapt based on your download location)\n",
    "data_dir = \"/3101Prefinals\"\n",
    "\n",
    "# List of ARFF file names\n",
    "arff_files = [f for f in os.listdir(data_dir) if f.endswith(\".arff\")]\n",
    "\n",
    "# Initialize an empty list to store DataFrames\n",
    "file_dataframes = []\n",
    "\n",
    "# Read each ARFF file into a separate DataFrame\n",
    "for file_name in arff_files:\n",
    "    file_path = os.path.join(data_dir, file_name)\n",
    "    \n",
    "    df = pd.read_csv(file_path, header=0, na_values=[\"?\", \"-1\"])\n",
    "    \n",
    "    file_dataframes.append(df)\n",
    "\n",
    "combined_df = pd.concat(file_dataframes)\n",
    "\n",
    "for row in combined_df.itertuples():\n",
    "    # This iterates over each row as a named tuple containing values\n",
    "    # You can access specific column values using row.index or by attribute name\n",
    "    # Modify this loop to print, save, or analyze the data as needed\n",
    "    print(f\"CompanyID: {row.CompanyID}, Year: {row.Year}, Value: {row.Value}\")"
   ]
  }
 ],
 "metadata": {
  "kernelspec": {
   "display_name": "Python 3",
   "language": "python",
   "name": "python3"
  },
  "language_info": {
   "codemirror_mode": {
    "name": "ipython",
    "version": 3
   },
   "file_extension": ".py",
   "mimetype": "text/x-python",
   "name": "python",
   "nbconvert_exporter": "python",
   "pygments_lexer": "ipython3",
   "version": "3.11.5"
  }
 },
 "nbformat": 4,
 "nbformat_minor": 2
}
